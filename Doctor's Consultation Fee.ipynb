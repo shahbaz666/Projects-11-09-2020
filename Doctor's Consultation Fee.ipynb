{
 "cells": [
  {
   "cell_type": "code",
   "execution_count": 89,
   "metadata": {},
   "outputs": [],
   "source": [
    "import pandas as pd\n",
    "import numpy as np\n",
    "import seaborn as sns\n",
    "import matplotlib.pyplot as plt\n",
    "%matplotlib inline\n",
    "import warnings\n",
    "warnings.filterwarnings('ignore')"
   ]
  },
  {
   "cell_type": "markdown",
   "metadata": {},
   "source": [
    "# Dataset Description"
   ]
  },
  {
   "cell_type": "markdown",
   "metadata": {},
   "source": [
    "The dataset contains consultation fee of different doctors along with other associated features. The dataset can be used to analyse what factors affect a doctor's consultation fee and a machine learning model can be prepared to predict a doctor's consultation fee."
   ]
  },
  {
   "cell_type": "code",
   "execution_count": 90,
   "metadata": {},
   "outputs": [
    {
     "data": {
      "text/html": [
       "<div>\n",
       "<style scoped>\n",
       "    .dataframe tbody tr th:only-of-type {\n",
       "        vertical-align: middle;\n",
       "    }\n",
       "\n",
       "    .dataframe tbody tr th {\n",
       "        vertical-align: top;\n",
       "    }\n",
       "\n",
       "    .dataframe thead th {\n",
       "        text-align: right;\n",
       "    }\n",
       "</style>\n",
       "<table border=\"1\" class=\"dataframe\">\n",
       "  <thead>\n",
       "    <tr style=\"text-align: right;\">\n",
       "      <th></th>\n",
       "      <th>Qualification</th>\n",
       "      <th>Experience</th>\n",
       "      <th>Rating</th>\n",
       "      <th>Place</th>\n",
       "      <th>Profile</th>\n",
       "      <th>Miscellaneous_Info</th>\n",
       "      <th>Fees</th>\n",
       "    </tr>\n",
       "  </thead>\n",
       "  <tbody>\n",
       "    <tr>\n",
       "      <th>0</th>\n",
       "      <td>BHMS, MD - Homeopathy</td>\n",
       "      <td>24 years experience</td>\n",
       "      <td>100%</td>\n",
       "      <td>Kakkanad, Ernakulam</td>\n",
       "      <td>Homeopath</td>\n",
       "      <td>100% 16 Feedback Kakkanad, Ernakulam</td>\n",
       "      <td>100</td>\n",
       "    </tr>\n",
       "    <tr>\n",
       "      <th>1</th>\n",
       "      <td>BAMS, MD - Ayurveda Medicine</td>\n",
       "      <td>12 years experience</td>\n",
       "      <td>98%</td>\n",
       "      <td>Whitefield, Bangalore</td>\n",
       "      <td>Ayurveda</td>\n",
       "      <td>98% 76 Feedback Whitefield, Bangalore</td>\n",
       "      <td>350</td>\n",
       "    </tr>\n",
       "    <tr>\n",
       "      <th>2</th>\n",
       "      <td>MBBS, MS - Otorhinolaryngology</td>\n",
       "      <td>9 years experience</td>\n",
       "      <td>NaN</td>\n",
       "      <td>Mathikere - BEL, Bangalore</td>\n",
       "      <td>ENT Specialist</td>\n",
       "      <td>NaN</td>\n",
       "      <td>300</td>\n",
       "    </tr>\n",
       "    <tr>\n",
       "      <th>3</th>\n",
       "      <td>BSc - Zoology, BAMS</td>\n",
       "      <td>12 years experience</td>\n",
       "      <td>NaN</td>\n",
       "      <td>Bannerghatta Road, Bangalore</td>\n",
       "      <td>Ayurveda</td>\n",
       "      <td>Bannerghatta Road, Bangalore ₹250 Available on...</td>\n",
       "      <td>250</td>\n",
       "    </tr>\n",
       "    <tr>\n",
       "      <th>4</th>\n",
       "      <td>BAMS</td>\n",
       "      <td>20 years experience</td>\n",
       "      <td>100%</td>\n",
       "      <td>Keelkattalai, Chennai</td>\n",
       "      <td>Ayurveda</td>\n",
       "      <td>100% 4 Feedback Keelkattalai, Chennai</td>\n",
       "      <td>250</td>\n",
       "    </tr>\n",
       "  </tbody>\n",
       "</table>\n",
       "</div>"
      ],
      "text/plain": [
       "                    Qualification           Experience Rating  \\\n",
       "0           BHMS, MD - Homeopathy  24 years experience   100%   \n",
       "1    BAMS, MD - Ayurveda Medicine  12 years experience    98%   \n",
       "2  MBBS, MS - Otorhinolaryngology   9 years experience    NaN   \n",
       "3             BSc - Zoology, BAMS  12 years experience    NaN   \n",
       "4                            BAMS  20 years experience   100%   \n",
       "\n",
       "                          Place         Profile  \\\n",
       "0           Kakkanad, Ernakulam       Homeopath   \n",
       "1         Whitefield, Bangalore        Ayurveda   \n",
       "2    Mathikere - BEL, Bangalore  ENT Specialist   \n",
       "3  Bannerghatta Road, Bangalore        Ayurveda   \n",
       "4         Keelkattalai, Chennai        Ayurveda   \n",
       "\n",
       "                                  Miscellaneous_Info  Fees  \n",
       "0               100% 16 Feedback Kakkanad, Ernakulam   100  \n",
       "1              98% 76 Feedback Whitefield, Bangalore   350  \n",
       "2                                                NaN   300  \n",
       "3  Bannerghatta Road, Bangalore ₹250 Available on...   250  \n",
       "4              100% 4 Feedback Keelkattalai, Chennai   250  "
      ]
     },
     "execution_count": 90,
     "metadata": {},
     "output_type": "execute_result"
    }
   ],
   "source": [
    "df = pd.read_excel(\"Doctor_Final_Train.xlsx\")\n",
    "df.head()"
   ]
  },
  {
   "cell_type": "code",
   "execution_count": 91,
   "metadata": {},
   "outputs": [
    {
     "data": {
      "text/plain": [
       "(5961, 7)"
      ]
     },
     "execution_count": 91,
     "metadata": {},
     "output_type": "execute_result"
    }
   ],
   "source": [
    "df.shape"
   ]
  },
  {
   "cell_type": "code",
   "execution_count": 92,
   "metadata": {},
   "outputs": [
    {
     "name": "stdout",
     "output_type": "stream",
     "text": [
      "<class 'pandas.core.frame.DataFrame'>\n",
      "RangeIndex: 5961 entries, 0 to 5960\n",
      "Data columns (total 7 columns):\n",
      " #   Column              Non-Null Count  Dtype \n",
      "---  ------              --------------  ----- \n",
      " 0   Qualification       5961 non-null   object\n",
      " 1   Experience          5961 non-null   object\n",
      " 2   Rating              2659 non-null   object\n",
      " 3   Place               5936 non-null   object\n",
      " 4   Profile             5961 non-null   object\n",
      " 5   Miscellaneous_Info  3341 non-null   object\n",
      " 6   Fees                5961 non-null   int64 \n",
      "dtypes: int64(1), object(6)\n",
      "memory usage: 326.1+ KB\n"
     ]
    }
   ],
   "source": [
    "df.info()"
   ]
  },
  {
   "cell_type": "markdown",
   "metadata": {},
   "source": [
    "Let us preprocess the features for analysis & machine learning model"
   ]
  },
  {
   "cell_type": "code",
   "execution_count": 93,
   "metadata": {},
   "outputs": [],
   "source": [
    "df['Experience'] = df['Experience'].str.replace('years experience','').astype(int)"
   ]
  },
  {
   "cell_type": "code",
   "execution_count": 94,
   "metadata": {},
   "outputs": [
    {
     "data": {
      "text/plain": [
       "Text(0.5, 1.0, 'Years of Experience - Distplot')"
      ]
     },
     "execution_count": 94,
     "metadata": {},
     "output_type": "execute_result"
    },
    {
     "data": {
      "image/png": "[encoded data removed]",
      "text/plain": [
       "<Figure size 1008x648 with 1 Axes>"
      ]
     },
     "metadata": {
      "needs_background": "light"
     },
     "output_type": "display_data"
    }
   ],
   "source": [
    "plt.figure(figsize=(14,9))\n",
    "sns.distplot(df[\"Experience\"],kde=False)\n",
    "#plt.xticks(rotation = 90)\n",
    "plt.xlabel('Experience (Years)')\n",
    "plt.ylabel('Number of Doctors')\n",
    "plt.title('Years of Experience - Distplot')"
   ]
  },
  {
   "cell_type": "markdown",
   "metadata": {},
   "source": [
    "The distribution of experience is skewed to the right"
   ]
  },
  {
   "cell_type": "code",
   "execution_count": 95,
   "metadata": {},
   "outputs": [
    {
     "data": {
      "text/plain": [
       "BDS                                                                                      488\n",
       "BHMS                                                                                     477\n",
       "BAMS                                                                                     471\n",
       "MBBS                                                                                     334\n",
       "MBBS, MS - ENT                                                                           220\n",
       "                                                                                        ... \n",
       "BAMS, Post Graduate Diploma in Holistic Healthcare                                         1\n",
       "MBBS, MD - Dermatology, Fellowship In Cosmetic Dermatology                                 1\n",
       "MBBS, MD - Acupuncture                                                                     1\n",
       "BDS, FICD, FICOI                                                                           1\n",
       "MBBS, MD - Obstetrics & Gynaecology, Fellowship of College of General Practice (FCGP)      1\n",
       "Name: Qualification, Length: 1420, dtype: int64"
      ]
     },
     "execution_count": 95,
     "metadata": {},
     "output_type": "execute_result"
    }
   ],
   "source": [
    "df['Qualification'].value_counts()"
   ]
  },
  {
   "cell_type": "markdown",
   "metadata": {},
   "source": [
    "The qualification column contains more than 1420 entries, let's clean the column"
   ]
  },
  {
   "cell_type": "code",
   "execution_count": 96,
   "metadata": {},
   "outputs": [],
   "source": [
    "import re\n",
    "def clean_text(text):\n",
    "    text = str(text).lower()\n",
    "    text = re.sub(r'[^a-z]', ' ', text)\n",
    "    text = re.sub(r'\\s+', ' ', text)\n",
    "    return text"
   ]
  },
  {
   "cell_type": "code",
   "execution_count": 97,
   "metadata": {},
   "outputs": [],
   "source": [
    "df['Qualification'] = df['Qualification'].apply(clean_text)"
   ]
  },
  {
   "cell_type": "code",
   "execution_count": 98,
   "metadata": {},
   "outputs": [
    {
     "data": {
      "text/plain": [
       "bds                                                                                                                                                        488\n",
       "bhms                                                                                                                                                       477\n",
       "bams                                                                                                                                                       471\n",
       "mbbs                                                                                                                                                       334\n",
       "mbbs ms ent                                                                                                                                                220\n",
       "                                                                                                                                                          ... \n",
       "bds advanced certificate in endodontics and esthetics advanced certificate course in aesthetic dentistry advanced certificate course in dental implants      1\n",
       "bams md ayurveda medicine certification in yoga                                                                                                              1\n",
       "md dermatology venereology leprosy diploma in anesthesiology mbbs                                                                                            1\n",
       "bds mds periodontics fellowship in aesthetic medicine                                                                                                        1\n",
       "mbbs diploma in orthopaedics ms orthopaedics                                                                                                                 1\n",
       "Name: Qualification, Length: 1420, dtype: int64"
      ]
     },
     "execution_count": 98,
     "metadata": {},
     "output_type": "execute_result"
    }
   ],
   "source": [
    "df['Qualification'].value_counts()"
   ]
  },
  {
   "cell_type": "code",
   "execution_count": 99,
   "metadata": {},
   "outputs": [
    {
     "data": {
      "text/plain": [
       "HSR Layout, Bangalore       75\n",
       "Andheri West, Mumbai        70\n",
       "Dwarka, Delhi               67\n",
       "Banjara Hills, Hyderabad    64\n",
       "Mulund West, Mumbai         54\n",
       "                            ..\n",
       "Yakutpura, Hyderabad         1\n",
       "Koovappady, Ernakulam        1\n",
       "Cherai, Ernakulam            1\n",
       "Chitlapakkam, Chennai        1\n",
       "Dwarka Sector 4, Delhi       1\n",
       "Name: Place, Length: 877, dtype: int64"
      ]
     },
     "execution_count": 99,
     "metadata": {},
     "output_type": "execute_result"
    }
   ],
   "source": [
    "df['Place'].value_counts()"
   ]
  },
  {
   "cell_type": "markdown",
   "metadata": {},
   "source": [
    "Let's clean the Place column as well"
   ]
  },
  {
   "cell_type": "code",
   "execution_count": 100,
   "metadata": {},
   "outputs": [],
   "source": [
    "def clean_place(text):\n",
    "    text = str(text).lower()\n",
    "    text = re.sub(r'[^a-z0-9]', ' ', text)\n",
    "    text = re.sub(r'\\s+', ' ', text)\n",
    "    return text"
   ]
  },
  {
   "cell_type": "markdown",
   "metadata": {},
   "source": [
    "Let's check for null values in the column before cleaning it"
   ]
  },
  {
   "cell_type": "code",
   "execution_count": 101,
   "metadata": {},
   "outputs": [
    {
     "data": {
      "text/plain": [
       "Qualification            0\n",
       "Experience               0\n",
       "Rating                3302\n",
       "Place                   25\n",
       "Profile                  0\n",
       "Miscellaneous_Info    2620\n",
       "Fees                     0\n",
       "dtype: int64"
      ]
     },
     "execution_count": 101,
     "metadata": {},
     "output_type": "execute_result"
    }
   ],
   "source": [
    "df.isnull().sum()"
   ]
  },
  {
   "cell_type": "markdown",
   "metadata": {},
   "source": [
    "Let's fill the missing values for the machine learning model"
   ]
  },
  {
   "cell_type": "code",
   "execution_count": 102,
   "metadata": {},
   "outputs": [],
   "source": [
    "df['Place'].fillna('missing', inplace=True)"
   ]
  },
  {
   "cell_type": "code",
   "execution_count": 103,
   "metadata": {},
   "outputs": [],
   "source": [
    "df['Place'] = df['Place'].apply(clean_place)"
   ]
  },
  {
   "cell_type": "code",
   "execution_count": 104,
   "metadata": {},
   "outputs": [
    {
     "data": {
      "text/plain": [
       "hsr layout bangalore              75\n",
       "andheri west mumbai               70\n",
       "dwarka delhi                      67\n",
       "banjara hills hyderabad           64\n",
       "mulund west mumbai                54\n",
       "                                  ..\n",
       "bandlaguda hyderabad               1\n",
       "perumathura thiruvananthapuram     1\n",
       "shakurpur delhi                    1\n",
       "perungalathur chennai              1\n",
       "cherannagar coimbatore             1\n",
       "Name: Place, Length: 877, dtype: int64"
      ]
     },
     "execution_count": 104,
     "metadata": {},
     "output_type": "execute_result"
    }
   ],
   "source": [
    "df['Place'].value_counts()"
   ]
  },
  {
   "cell_type": "code",
   "execution_count": 105,
   "metadata": {},
   "outputs": [
    {
     "data": {
      "text/plain": [
       "100%    684\n",
       "98%     290\n",
       "99%     259\n",
       "97%     241\n",
       "96%     220\n",
       "95%     178\n",
       "94%     115\n",
       "93%     109\n",
       "92%      66\n",
       "90%      66\n",
       "91%      60\n",
       "89%      42\n",
       "88%      41\n",
       "85%      27\n",
       "82%      23\n",
       "86%      21\n",
       "83%      21\n",
       "80%      19\n",
       "77%      16\n",
       "87%      14\n",
       "79%      13\n",
       "84%      13\n",
       "81%      12\n",
       "67%      12\n",
       "71%       9\n",
       "76%       9\n",
       "75%       8\n",
       "73%       8\n",
       "60%       7\n",
       "74%       7\n",
       "78%       6\n",
       "56%       5\n",
       "68%       5\n",
       "70%       4\n",
       "69%       4\n",
       "57%       3\n",
       "72%       3\n",
       "63%       2\n",
       "62%       2\n",
       "64%       2\n",
       "55%       2\n",
       "33%       2\n",
       "58%       1\n",
       "40%       1\n",
       "7%        1\n",
       "48%       1\n",
       "45%       1\n",
       "36%       1\n",
       "53%       1\n",
       "47%       1\n",
       "65%       1\n",
       "Name: Rating, dtype: int64"
      ]
     },
     "execution_count": 105,
     "metadata": {},
     "output_type": "execute_result"
    }
   ],
   "source": [
    "df['Rating'].value_counts()"
   ]
  },
  {
   "cell_type": "markdown",
   "metadata": {},
   "source": [
    "Let's fill the null values in rating column before cleaning it & converting it to numeric type"
   ]
  },
  {
   "cell_type": "code",
   "execution_count": 106,
   "metadata": {},
   "outputs": [],
   "source": [
    "df['Rating'].fillna('0%', inplace=True)"
   ]
  },
  {
   "cell_type": "code",
   "execution_count": 107,
   "metadata": {},
   "outputs": [],
   "source": [
    "def clean_rating(text):\n",
    "    text = re.sub(r'%', '', str(text))\n",
    "    return text"
   ]
  },
  {
   "cell_type": "code",
   "execution_count": 108,
   "metadata": {},
   "outputs": [],
   "source": [
    "df['Rating'] = df['Rating'].apply(clean_rating)\n",
    "df['Rating'] = df['Rating'].astype(int)"
   ]
  },
  {
   "cell_type": "code",
   "execution_count": 109,
   "metadata": {},
   "outputs": [
    {
     "data": {
      "text/plain": [
       "Text(0.5, 1.0, 'Rating - Distplot')"
      ]
     },
     "execution_count": 109,
     "metadata": {},
     "output_type": "execute_result"
    },
    {
     "data": {
      "image/png": "[encoded data removed]",
      "text/plain": [
       "<Figure size 720x576 with 1 Axes>"
      ]
     },
     "metadata": {
      "needs_background": "light"
     },
     "output_type": "display_data"
    }
   ],
   "source": [
    "plt.figure(figsize=(10,8))\n",
    "sns.distplot(df[\"Rating\"],kde=False)\n",
    "#plt.xticks(rotation = 90)\n",
    "plt.xlabel('Rating (%)')\n",
    "plt.ylabel('Number of Doctors')\n",
    "plt.title('Rating - Distplot')"
   ]
  },
  {
   "cell_type": "markdown",
   "metadata": {},
   "source": [
    "All null values in Rating column has been filled with 0% rating, a high proportion of doctors have missing ratings"
   ]
  },
  {
   "cell_type": "code",
   "execution_count": 110,
   "metadata": {},
   "outputs": [],
   "source": [
    "df['Miscellaneous_Info'].fillna('missing', inplace=True)"
   ]
  },
  {
   "cell_type": "code",
   "execution_count": 111,
   "metadata": {},
   "outputs": [
    {
     "data": {
      "text/plain": [
       "missing                                                               2620\n",
       "Acrylic Partial Denture Crowns and Bridges Fixing Artificial Teeth      40\n",
       "Dental Fillings Zirconia Crowns Dental Implant Fixing                   12\n",
       "Tooth Extraction Dental Fillings Scaling / Polishing                    12\n",
       "Skin Allergy Treatment Skin Allergies Dermabrasion                       9\n",
       "                                                                      ... \n",
       "95% 4 Feedback Sanath Nagar, Hyderabad                                   1\n",
       "100% 16 Feedback HSR Layout, Bangalore                                   1\n",
       "97% 8 Feedback Adambakkam, Chennai                                       1\n",
       "96% 15 Feedback Karamana, Thiruvananthapuram                             1\n",
       "80% 11 Feedback Kilpauk, Chennai                                         1\n",
       "Name: Miscellaneous_Info, Length: 2999, dtype: int64"
      ]
     },
     "execution_count": 111,
     "metadata": {},
     "output_type": "execute_result"
    }
   ],
   "source": [
    "df['Miscellaneous_Info'].value_counts()"
   ]
  },
  {
   "cell_type": "markdown",
   "metadata": {},
   "source": [
    "Let us extract the number of feedbacks for each doctor from the miscellaneous info column, number of feedbacks is zero wherever it is unavailable"
   ]
  },
  {
   "cell_type": "code",
   "execution_count": 112,
   "metadata": {},
   "outputs": [],
   "source": [
    "def get_feedback(feedback):\n",
    "    feedback = re.findall(r'\\d+ Feedback', str(feedback))\n",
    "    if feedback == []:\n",
    "        feedback = '0 Feedback'\n",
    "        return feedback\n",
    "    else:\n",
    "        return feedback[0]"
   ]
  },
  {
   "cell_type": "code",
   "execution_count": 113,
   "metadata": {},
   "outputs": [],
   "source": [
    "df['Feedback'] = df['Miscellaneous_Info'].apply(get_feedback)\n",
    "df['Feedback'] = df['Feedback'].str.replace(' Feedback','')\n",
    "df['Feedback'] = df['Feedback'].astype(int)"
   ]
  },
  {
   "cell_type": "code",
   "execution_count": 114,
   "metadata": {},
   "outputs": [
    {
     "data": {
      "text/plain": [
       "Qualification         0\n",
       "Experience            0\n",
       "Rating                0\n",
       "Place                 0\n",
       "Profile               0\n",
       "Miscellaneous_Info    0\n",
       "Fees                  0\n",
       "Feedback              0\n",
       "dtype: int64"
      ]
     },
     "execution_count": 114,
     "metadata": {},
     "output_type": "execute_result"
    }
   ],
   "source": [
    "df.isnull().sum()"
   ]
  },
  {
   "cell_type": "code",
   "execution_count": 115,
   "metadata": {
    "scrolled": true
   },
   "outputs": [
    {
     "data": {
      "text/plain": [
       "Text(0.5, 1.0, 'Feedback - Distplot')"
      ]
     },
     "execution_count": 115,
     "metadata": {},
     "output_type": "execute_result"
    },
    {
     "data": {
      "image/png": "[encoded data removed]",
      "text/plain": [
       "<Figure size 720x576 with 1 Axes>"
      ]
     },
     "metadata": {
      "needs_background": "light"
     },
     "output_type": "display_data"
    }
   ],
   "source": [
    "plt.figure(figsize=(10,8))\n",
    "sns.distplot(df[\"Feedback\"],kde=False)\n",
    "#plt.xticks(rotation = 90)\n",
    "plt.xlabel('Feedback')\n",
    "plt.ylabel('Number of Doctors')\n",
    "plt.title('Feedback - Distplot')"
   ]
  },
  {
   "cell_type": "markdown",
   "metadata": {},
   "source": [
    "A very high proportion of doctors don't have feedback mentioned"
   ]
  },
  {
   "cell_type": "markdown",
   "metadata": {},
   "source": [
    "Let's extract the miscellaneous fee from the miscellaneous column, fee is assumed 0 wherever it is not mentioned"
   ]
  },
  {
   "cell_type": "code",
   "execution_count": 116,
   "metadata": {},
   "outputs": [],
   "source": [
    "def get_fee(text):\n",
    "    text = re.sub(r',', \"\", text)\n",
    "    text = re.findall(r'₹\\d+', text)\n",
    "    if text != []:\n",
    "        return text[0]\n",
    "    else:\n",
    "        return 0"
   ]
  },
  {
   "cell_type": "code",
   "execution_count": 117,
   "metadata": {},
   "outputs": [],
   "source": [
    "df['Misc_Fees'] = df['Miscellaneous_Info'].apply(get_fee)\n",
    "df['Misc_Fees'] = df['Misc_Fees'].str.replace('₹','')\n",
    "df['Misc_Fees'].fillna(50, inplace=True)\n",
    "df['Misc_Fees'] = df['Misc_Fees'].astype(int)"
   ]
  },
  {
   "cell_type": "code",
   "execution_count": 118,
   "metadata": {},
   "outputs": [
    {
     "data": {
      "text/plain": [
       "Text(0.5, 1.0, 'Misc_Fees - Distplot')"
      ]
     },
     "execution_count": 118,
     "metadata": {},
     "output_type": "execute_result"
    },
    {
     "data": {
      "image/png": "[encoded data removed]",
      "text/plain": [
       "<Figure size 720x576 with 1 Axes>"
      ]
     },
     "metadata": {
      "needs_background": "light"
     },
     "output_type": "display_data"
    }
   ],
   "source": [
    "plt.figure(figsize=(10,8))\n",
    "sns.distplot(df[\"Misc_Fees\"],kde=False)\n",
    "#plt.xticks(rotation = 90)\n",
    "plt.xlabel('Misc_Fees (₹)')\n",
    "plt.ylabel('Number of Doctors')\n",
    "plt.title('Misc_Fees - Distplot')"
   ]
  },
  {
   "cell_type": "markdown",
   "metadata": {},
   "source": [
    "Very few doctors have miscellaneous fee mentioned"
   ]
  },
  {
   "cell_type": "markdown",
   "metadata": {},
   "source": [
    "Let's clean the text present in the miscellaneous info column"
   ]
  },
  {
   "cell_type": "code",
   "execution_count": 119,
   "metadata": {},
   "outputs": [],
   "source": [
    "def clean_misc(text):\n",
    "    text = str(text).lower()\n",
    "    text = re.sub(r'[^a-z0-9]', ' ', text)\n",
    "    text = re.sub(r'\\s+', ' ', text)\n",
    "    return text"
   ]
  },
  {
   "cell_type": "code",
   "execution_count": 120,
   "metadata": {},
   "outputs": [],
   "source": [
    "df['Miscellaneous_Info'] = df['Miscellaneous_Info'].apply(clean_misc)"
   ]
  },
  {
   "cell_type": "code",
   "execution_count": 121,
   "metadata": {},
   "outputs": [],
   "source": [
    "df['Miscellaneous_Info'] = df['Miscellaneous_Info'].apply(clean_misc)"
   ]
  },
  {
   "cell_type": "code",
   "execution_count": 122,
   "metadata": {},
   "outputs": [],
   "source": [
    "df = pd.get_dummies(df, columns=['Profile'])"
   ]
  },
  {
   "cell_type": "code",
   "execution_count": 123,
   "metadata": {},
   "outputs": [
    {
     "data": {
      "text/html": [
       "<div>\n",
       "<style scoped>\n",
       "    .dataframe tbody tr th:only-of-type {\n",
       "        vertical-align: middle;\n",
       "    }\n",
       "\n",
       "    .dataframe tbody tr th {\n",
       "        vertical-align: top;\n",
       "    }\n",
       "\n",
       "    .dataframe thead th {\n",
       "        text-align: right;\n",
       "    }\n",
       "</style>\n",
       "<table border=\"1\" class=\"dataframe\">\n",
       "  <thead>\n",
       "    <tr style=\"text-align: right;\">\n",
       "      <th></th>\n",
       "      <th>Qualification</th>\n",
       "      <th>Experience</th>\n",
       "      <th>Rating</th>\n",
       "      <th>Place</th>\n",
       "      <th>Miscellaneous_Info</th>\n",
       "      <th>Fees</th>\n",
       "      <th>Feedback</th>\n",
       "      <th>Misc_Fees</th>\n",
       "      <th>Profile_Ayurveda</th>\n",
       "      <th>Profile_Dentist</th>\n",
       "      <th>Profile_Dermatologists</th>\n",
       "      <th>Profile_ENT Specialist</th>\n",
       "      <th>Profile_General Medicine</th>\n",
       "      <th>Profile_Homeopath</th>\n",
       "    </tr>\n",
       "  </thead>\n",
       "  <tbody>\n",
       "    <tr>\n",
       "      <th>0</th>\n",
       "      <td>bhms md homeopathy</td>\n",
       "      <td>24</td>\n",
       "      <td>100</td>\n",
       "      <td>kakkanad ernakulam</td>\n",
       "      <td>100 16 feedback kakkanad ernakulam</td>\n",
       "      <td>100</td>\n",
       "      <td>16</td>\n",
       "      <td>50</td>\n",
       "      <td>0</td>\n",
       "      <td>0</td>\n",
       "      <td>0</td>\n",
       "      <td>0</td>\n",
       "      <td>0</td>\n",
       "      <td>1</td>\n",
       "    </tr>\n",
       "    <tr>\n",
       "      <th>1</th>\n",
       "      <td>bams md ayurveda medicine</td>\n",
       "      <td>12</td>\n",
       "      <td>98</td>\n",
       "      <td>whitefield bangalore</td>\n",
       "      <td>98 76 feedback whitefield bangalore</td>\n",
       "      <td>350</td>\n",
       "      <td>76</td>\n",
       "      <td>50</td>\n",
       "      <td>1</td>\n",
       "      <td>0</td>\n",
       "      <td>0</td>\n",
       "      <td>0</td>\n",
       "      <td>0</td>\n",
       "      <td>0</td>\n",
       "    </tr>\n",
       "    <tr>\n",
       "      <th>2</th>\n",
       "      <td>mbbs ms otorhinolaryngology</td>\n",
       "      <td>9</td>\n",
       "      <td>0</td>\n",
       "      <td>mathikere bel bangalore</td>\n",
       "      <td>missing</td>\n",
       "      <td>300</td>\n",
       "      <td>0</td>\n",
       "      <td>50</td>\n",
       "      <td>0</td>\n",
       "      <td>0</td>\n",
       "      <td>0</td>\n",
       "      <td>1</td>\n",
       "      <td>0</td>\n",
       "      <td>0</td>\n",
       "    </tr>\n",
       "    <tr>\n",
       "      <th>3</th>\n",
       "      <td>bsc zoology bams</td>\n",
       "      <td>12</td>\n",
       "      <td>0</td>\n",
       "      <td>bannerghatta road bangalore</td>\n",
       "      <td>bannerghatta road bangalore 250 available on s...</td>\n",
       "      <td>250</td>\n",
       "      <td>0</td>\n",
       "      <td>250</td>\n",
       "      <td>1</td>\n",
       "      <td>0</td>\n",
       "      <td>0</td>\n",
       "      <td>0</td>\n",
       "      <td>0</td>\n",
       "      <td>0</td>\n",
       "    </tr>\n",
       "    <tr>\n",
       "      <th>4</th>\n",
       "      <td>bams</td>\n",
       "      <td>20</td>\n",
       "      <td>100</td>\n",
       "      <td>keelkattalai chennai</td>\n",
       "      <td>100 4 feedback keelkattalai chennai</td>\n",
       "      <td>250</td>\n",
       "      <td>4</td>\n",
       "      <td>50</td>\n",
       "      <td>1</td>\n",
       "      <td>0</td>\n",
       "      <td>0</td>\n",
       "      <td>0</td>\n",
       "      <td>0</td>\n",
       "      <td>0</td>\n",
       "    </tr>\n",
       "  </tbody>\n",
       "</table>\n",
       "</div>"
      ],
      "text/plain": [
       "                 Qualification  Experience  Rating  \\\n",
       "0           bhms md homeopathy          24     100   \n",
       "1    bams md ayurveda medicine          12      98   \n",
       "2  mbbs ms otorhinolaryngology           9       0   \n",
       "3             bsc zoology bams          12       0   \n",
       "4                         bams          20     100   \n",
       "\n",
       "                         Place  \\\n",
       "0           kakkanad ernakulam   \n",
       "1         whitefield bangalore   \n",
       "2      mathikere bel bangalore   \n",
       "3  bannerghatta road bangalore   \n",
       "4         keelkattalai chennai   \n",
       "\n",
       "                                  Miscellaneous_Info  Fees  Feedback  \\\n",
       "0                 100 16 feedback kakkanad ernakulam   100        16   \n",
       "1                98 76 feedback whitefield bangalore   350        76   \n",
       "2                                            missing   300         0   \n",
       "3  bannerghatta road bangalore 250 available on s...   250         0   \n",
       "4                100 4 feedback keelkattalai chennai   250         4   \n",
       "\n",
       "   Misc_Fees  Profile_Ayurveda  Profile_Dentist  Profile_Dermatologists  \\\n",
       "0         50                 0                0                       0   \n",
       "1         50                 1                0                       0   \n",
       "2         50                 0                0                       0   \n",
       "3        250                 1                0                       0   \n",
       "4         50                 1                0                       0   \n",
       "\n",
       "   Profile_ENT Specialist  Profile_General Medicine  Profile_Homeopath  \n",
       "0                       0                         0                  1  \n",
       "1                       0                         0                  0  \n",
       "2                       1                         0                  0  \n",
       "3                       0                         0                  0  \n",
       "4                       0                         0                  0  "
      ]
     },
     "execution_count": 123,
     "metadata": {},
     "output_type": "execute_result"
    }
   ],
   "source": [
    "df.head()"
   ]
  },
  {
   "cell_type": "markdown",
   "metadata": {},
   "source": [
    "Let us separate the input output dataframes then split the train-test sets"
   ]
  },
  {
   "cell_type": "code",
   "execution_count": 124,
   "metadata": {},
   "outputs": [],
   "source": [
    "X = df.drop(labels=['Fees'], axis=1)\n",
    "y = df['Fees'].values"
   ]
  },
  {
   "cell_type": "code",
   "execution_count": 125,
   "metadata": {},
   "outputs": [],
   "source": [
    "from sklearn.model_selection import train_test_split\n",
    "X_train, X_cv, y_train, y_cv = train_test_split(X, y, test_size=0.25, random_state=1)"
   ]
  },
  {
   "cell_type": "code",
   "execution_count": 126,
   "metadata": {},
   "outputs": [
    {
     "data": {
      "text/plain": [
       "((4470, 13), (4470,), (1491, 13), (1491,))"
      ]
     },
     "execution_count": 126,
     "metadata": {},
     "output_type": "execute_result"
    }
   ],
   "source": [
    "X_train.shape, y_train.shape, X_cv.shape, y_cv.shape"
   ]
  },
  {
   "cell_type": "code",
   "execution_count": 127,
   "metadata": {},
   "outputs": [
    {
     "data": {
      "text/plain": [
       "Index(['Qualification', 'Experience', 'Rating', 'Place', 'Miscellaneous_Info',\n",
       "       'Feedback', 'Misc_Fees', 'Profile_Ayurveda', 'Profile_Dentist',\n",
       "       'Profile_Dermatologists', 'Profile_ENT Specialist',\n",
       "       'Profile_General Medicine', 'Profile_Homeopath'],\n",
       "      dtype='object')"
      ]
     },
     "execution_count": 127,
     "metadata": {},
     "output_type": "execute_result"
    }
   ],
   "source": [
    "X_train.columns"
   ]
  },
  {
   "cell_type": "markdown",
   "metadata": {},
   "source": [
    "Let's extract the cleaned qualification, place & miscellaneous info columns from training & validating set for feature extraction"
   ]
  },
  {
   "cell_type": "code",
   "execution_count": 129,
   "metadata": {},
   "outputs": [],
   "source": [
    "X_train_qual = X_train['Qualification']\n",
    "X_cv_qual = X_cv['Qualification']\n",
    "\n",
    "X_train_place = X_train['Place']\n",
    "X_cv_place = X_cv['Place']\n",
    "\n",
    "X_train_misc = X_train['Miscellaneous_Info']\n",
    "X_cv_misc = X_cv['Miscellaneous_Info']"
   ]
  },
  {
   "cell_type": "markdown",
   "metadata": {},
   "source": [
    "Let's use term frequency (TF), Inverse Document Frequency (IDF) vectorizer (TFidfVectorizer) to transform the qualification, place & miscellaneous features which now contain cleaned texts"
   ]
  },
  {
   "cell_type": "code",
   "execution_count": 130,
   "metadata": {},
   "outputs": [],
   "source": [
    "from sklearn.feature_extraction.text import TfidfVectorizer\n",
    "tf1 = TfidfVectorizer(ngram_range=(1,2), binary=True, token_pattern=r'\\w{3,}')\n",
    "X_train_qual = tf1.fit_transform(X_train_qual)\n",
    "X_cv_qual = tf1.transform(X_cv_qual)\n",
    "\n",
    "tf2 = TfidfVectorizer()\n",
    "X_train_place = tf2.fit_transform(X_train_place)\n",
    "X_cv_place = tf2.transform(X_cv_place)\n",
    "\n",
    "tf3 = TfidfVectorizer(token_pattern=r'\\w{1,}', ngram_range=(1,2))\n",
    "X_train_misc = tf3.fit_transform(X_train_misc)\n",
    "X_cv_misc = tf3.transform(X_cv_misc)"
   ]
  },
  {
   "cell_type": "markdown",
   "metadata": {},
   "source": [
    "Let's put all the features back together for the machine learning model"
   ]
  },
  {
   "cell_type": "code",
   "execution_count": 131,
   "metadata": {},
   "outputs": [],
   "source": [
    "X_train_exp = np.array(X_train['Experience']).reshape(-1,1)\n",
    "X_cv_exp = np.array(X_cv['Experience']).reshape(-1,1)\n",
    "\n",
    "X_train_feedback = np.array(X_train['Feedback']).reshape(-1,1)\n",
    "X_cv_feedback = np.array(X_cv['Feedback']).reshape(-1,1)\n",
    "\n",
    "X_train_rating = np.array(X_train['Rating']).reshape(-1,1)\n",
    "X_cv_rating = np.array(X_cv['Rating']).reshape(-1,1)\n",
    "\n",
    "cols = ['Profile_Dentist', 'Profile_Dermatologists', 'Profile_ENT Specialist', 'Profile_General Medicine',\n",
    "       'Profile_Homeopath']\n",
    "X_train_prof = X_train[cols]\n",
    "X_cv_prof = X_cv[cols]\n",
    "\n",
    "X_train_miscfees = np.array(X_train['Misc_Fees']).reshape(-1,1)\n",
    "X_cv_miscfees = np.array(X_cv['Misc_Fees']).reshape(-1,1)"
   ]
  },
  {
   "cell_type": "code",
   "execution_count": 132,
   "metadata": {},
   "outputs": [],
   "source": [
    "from math import sqrt \n",
    "from sklearn.metrics import mean_squared_log_error, mean_squared_error,r2_score,mean_absolute_error"
   ]
  },
  {
   "cell_type": "code",
   "execution_count": 133,
   "metadata": {},
   "outputs": [],
   "source": [
    "from scipy.sparse import hstack\n",
    "merged_train = hstack((X_train_exp, X_train_qual, X_train_prof, X_train_place, X_train_rating, X_train_misc, X_train_miscfees))\n",
    "merged_cv  = hstack((X_cv_exp, X_cv_qual, X_cv_prof, X_cv_place, X_cv_rating, X_cv_misc, X_cv_miscfees))"
   ]
  },
  {
   "cell_type": "code",
   "execution_count": 134,
   "metadata": {},
   "outputs": [
    {
     "data": {
      "text/plain": [
       "((4470, 8600), (1491, 8600))"
      ]
     },
     "execution_count": 134,
     "metadata": {},
     "output_type": "execute_result"
    }
   ],
   "source": [
    "merged_train.shape, merged_cv.shape"
   ]
  },
  {
   "cell_type": "markdown",
   "metadata": {},
   "source": [
    "Let's observe the performance of different regression algorithms"
   ]
  },
  {
   "cell_type": "code",
   "execution_count": 135,
   "metadata": {},
   "outputs": [],
   "source": [
    "from sklearn.linear_model import Ridge,Lasso,LinearRegression\n",
    "from sklearn.neighbors import KNeighborsRegressor\n",
    "from sklearn.svm import SVR\n",
    "from sklearn.tree import DecisionTreeRegressor\n",
    "from sklearn.ensemble import RandomForestRegressor\n",
    "from sklearn.ensemble import AdaBoostRegressor\n",
    "from sklearn.ensemble import GradientBoostingRegressor\n",
    "import xgboost as xgb"
   ]
  },
  {
   "cell_type": "code",
   "execution_count": 136,
   "metadata": {},
   "outputs": [],
   "source": [
    "LR = LinearRegression()\n",
    "RR = Ridge()\n",
    "LSR = Lasso()\n",
    "KNR = KNeighborsRegressor()#(n_neighbors=2)\n",
    "SV = SVR()\n",
    "DTC = DecisionTreeRegressor()\n",
    "RFC = RandomForestRegressor()\n",
    "ABC = AdaBoostRegressor()#(n_estimators=100,base_estimator=SV,algorithm='SAMME')\n",
    "GBC = GradientBoostingRegressor()\n",
    "XGB = xgb.XGBRegressor()# From the GridSearchCV parameter tuning"
   ]
  },
  {
   "cell_type": "code",
   "execution_count": 137,
   "metadata": {},
   "outputs": [],
   "source": [
    "models = []\n",
    "models.append((\"LinearRegression\", LR))\n",
    "models.append((\"Ridge\", RR))\n",
    "models.append((\"Lasso\", LSR))\n",
    "models.append((\"KNeighborsRegressor\", KNR))\n",
    "models.append((\"SVR\", SV))\n",
    "models.append((\"DecisionTreeRegressor\", DTC))\n",
    "models.append((\"RandomForestRegressor\", RFC))\n",
    "models.append((\"AdaBoostRegressor\", ABC))\n",
    "models.append((\"GradientBoostingRegressor\", GBC))\n",
    "models.append((\"XGBoostRegressor\", XGB))"
   ]
  },
  {
   "cell_type": "code",
   "execution_count": 138,
   "metadata": {},
   "outputs": [],
   "source": [
    "from sklearn.model_selection import cross_val_score\n",
    "from sklearn.model_selection import KFold\n",
    "kf = KFold(n_splits=4, random_state=91, shuffle=True)"
   ]
  },
  {
   "cell_type": "code",
   "execution_count": 61,
   "metadata": {},
   "outputs": [
    {
     "name": "stdout",
     "output_type": "stream",
     "text": [
      "***************** LinearRegression ******************\n",
      "\n",
      "LinearRegression(copy_X=True, fit_intercept=True, n_jobs=None, normalize=False)\n",
      "\n",
      "\n",
      "R2 Score =  -5.350207912195466\n",
      "\n",
      "\n",
      "Cross val score =  nan\n",
      "\n",
      "\n",
      "Mean Squared error\n",
      " 228445.81572183702\n",
      "\n",
      "\n",
      "Mean absolute error \n",
      "319.62192976622674\n",
      "\n",
      "\n",
      "\n",
      "***************** Ridge ******************\n",
      "\n",
      "Ridge(alpha=1.0, copy_X=True, fit_intercept=True, max_iter=None,\n",
      "      normalize=False, random_state=None, solver='auto', tol=0.001)\n",
      "\n",
      "\n",
      "R2 Score =  0.212304929957028\n",
      "\n",
      "\n",
      "Cross val score =  nan\n",
      "\n",
      "\n",
      "Mean Squared error\n",
      " 28336.968695222364\n",
      "\n",
      "\n",
      "Mean absolute error \n",
      "127.84949640464508\n",
      "\n",
      "\n",
      "\n",
      "***************** Lasso ******************\n",
      "\n",
      "Lasso(alpha=1.0, copy_X=True, fit_intercept=True, max_iter=1000,\n",
      "      normalize=False, positive=False, precompute=False, random_state=None,\n",
      "      selection='cyclic', tol=0.0001, warm_start=False)\n",
      "\n",
      "\n",
      "R2 Score =  0.16843659320679583\n",
      "\n",
      "\n",
      "Cross val score =  nan\n",
      "\n",
      "\n",
      "Mean Squared error\n",
      " 29915.111979951802\n",
      "\n",
      "\n",
      "Mean absolute error \n",
      "136.6301431472579\n",
      "\n",
      "\n",
      "\n",
      "***************** KNeighborsRegressor ******************\n",
      "\n",
      "KNeighborsRegressor(algorithm='auto', leaf_size=30, metric='minkowski',\n",
      "                    metric_params=None, n_jobs=None, n_neighbors=5, p=2,\n",
      "                    weights='uniform')\n",
      "\n",
      "\n",
      "R2 Score =  0.08704072917551564\n",
      "\n",
      "\n",
      "Cross val score =  nan\n",
      "\n",
      "\n",
      "Mean Squared error\n",
      " 32843.290838363515\n",
      "\n",
      "\n",
      "Mean absolute error \n",
      "138.73722334004026\n",
      "\n",
      "\n",
      "\n",
      "***************** SVR ******************\n",
      "\n",
      "SVR(C=1.0, cache_size=200, coef0=0.0, degree=3, epsilon=0.1, gamma='scale',\n",
      "    kernel='rbf', max_iter=-1, shrinking=True, tol=0.001, verbose=False)\n",
      "\n",
      "\n",
      "R2 Score =  0.003538599991815161\n",
      "\n",
      "\n",
      "Cross val score =  nan\n",
      "\n",
      "\n",
      "Mean Squared error\n",
      " 35847.241619131826\n",
      "\n",
      "\n",
      "Mean absolute error \n",
      "148.62635349722606\n",
      "\n",
      "\n",
      "\n",
      "***************** DecisionTreeRegressor ******************\n",
      "\n",
      "DecisionTreeRegressor(ccp_alpha=0.0, criterion='mse', max_depth=None,\n",
      "                      max_features=None, max_leaf_nodes=None,\n",
      "                      min_impurity_decrease=0.0, min_impurity_split=None,\n",
      "                      min_samples_leaf=1, min_samples_split=2,\n",
      "                      min_weight_fraction_leaf=0.0, presort='deprecated',\n",
      "                      random_state=None, splitter='best')\n",
      "\n",
      "\n",
      "R2 Score =  -0.3245702100094674\n",
      "\n",
      "\n",
      "Cross val score =  nan\n",
      "\n",
      "\n",
      "Mean Squared error\n",
      " 47650.80549966465\n",
      "\n",
      "\n",
      "Mean absolute error \n",
      "151.01207243460766\n",
      "\n",
      "\n",
      "\n",
      "***************** RandomForestRegressor ******************\n",
      "\n",
      "RandomForestRegressor(bootstrap=True, ccp_alpha=0.0, criterion='mse',\n",
      "                      max_depth=None, max_features='auto', max_leaf_nodes=None,\n",
      "                      max_samples=None, min_impurity_decrease=0.0,\n",
      "                      min_impurity_split=None, min_samples_leaf=1,\n",
      "                      min_samples_split=2, min_weight_fraction_leaf=0.0,\n",
      "                      n_estimators=100, n_jobs=None, oob_score=False,\n",
      "                      random_state=None, verbose=0, warm_start=False)\n",
      "\n",
      "\n",
      "R2 Score =  0.24049937293517876\n",
      "\n",
      "\n",
      "Cross val score =  nan\n",
      "\n",
      "\n",
      "Mean Squared error\n",
      " 27322.686546665176\n",
      "\n",
      "\n",
      "Mean absolute error \n",
      "123.45125642745361\n",
      "\n",
      "\n",
      "\n",
      "***************** AdaBoostRegressor ******************\n",
      "\n",
      "AdaBoostRegressor(base_estimator=None, learning_rate=1.0, loss='linear',\n",
      "                  n_estimators=50, random_state=None)\n",
      "\n",
      "\n",
      "R2 Score =  0.09722233516488021\n",
      "\n",
      "\n",
      "Cross val score =  nan\n",
      "\n",
      "\n",
      "Mean Squared error\n",
      " 32477.012234928847\n",
      "\n",
      "\n",
      "Mean absolute error \n",
      "148.9053829682455\n",
      "\n",
      "\n",
      "\n",
      "***************** GradientBoostingRegressor ******************\n",
      "\n",
      "GradientBoostingRegressor(alpha=0.9, ccp_alpha=0.0, criterion='friedman_mse',\n",
      "                          init=None, learning_rate=0.1, loss='ls', max_depth=3,\n",
      "                          max_features=None, max_leaf_nodes=None,\n",
      "                          min_impurity_decrease=0.0, min_impurity_split=None,\n",
      "                          min_samples_leaf=1, min_samples_split=2,\n",
      "                          min_weight_fraction_leaf=0.0, n_estimators=100,\n",
      "                          n_iter_no_change=None, presort='deprecated',\n",
      "                          random_state=None, subsample=1.0, tol=0.0001,\n",
      "                          validation_fraction=0.1, verbose=0, warm_start=False)\n",
      "\n",
      "\n",
      "R2 Score =  0.22863573714368624\n",
      "\n",
      "\n",
      "Cross val score =  nan\n",
      "\n",
      "\n",
      "Mean Squared error\n",
      " 27749.475400398514\n",
      "\n",
      "\n",
      "Mean absolute error \n",
      "130.4815618271601\n",
      "\n",
      "\n",
      "\n",
      "***************** XGBoostRegressor ******************\n",
      "\n",
      "XGBRegressor(base_score=0.5, booster='gbtree', colsample_bylevel=1,\n",
      "             colsample_bynode=1, colsample_bytree=1, gamma=0, gpu_id=-1,\n",
      "             importance_type='gain', interaction_constraints='',\n",
      "             learning_rate=0.300000012, max_delta_step=0, max_depth=6,\n",
      "             min_child_weight=1, missing=nan, monotone_constraints='()',\n",
      "             n_estimators=100, n_jobs=0, num_parallel_tree=1,\n",
      "             objective='reg:squarederror', random_state=0, reg_alpha=0,\n",
      "             reg_lambda=1, scale_pos_weight=1, subsample=1, tree_method='exact',\n",
      "             validate_parameters=1, verbosity=None)\n",
      "\n",
      "\n",
      "R2 Score =  0.25258746202433957\n",
      "\n",
      "\n",
      "Cross val score =  nan\n",
      "\n",
      "\n",
      "Mean Squared error\n",
      " 26887.823088543086\n",
      "\n",
      "\n",
      "Mean absolute error \n",
      "124.71378939940097\n",
      "\n",
      "\n",
      "\n"
     ]
    }
   ],
   "source": [
    "Model = []\n",
    "score = []\n",
    "cvs = []\n",
    "MSE = []\n",
    "MAE = []\n",
    "for name,model in models:\n",
    "    print(\"*****************\",name,\"******************\\n\")\n",
    "    Model.append(name)\n",
    "    model.fit(merged_train,y_train)\n",
    "    print(model)\n",
    "    pre = model.predict(merged_cv)\n",
    "    print(\"\\n\")\n",
    "    R2 = r2_score(y_cv,pre)\n",
    "    print(\"R2 Score = \",R2)\n",
    "    score.append(R2)\n",
    "    print(\"\\n\")\n",
    "    sc = cross_val_score(model,X,y,cv=kf,scoring=\"r2\").mean()\n",
    "    print(\"Cross val score = \",sc)\n",
    "    cvs.append(sc)\n",
    "    print(\"\\n\")\n",
    "    mse = mean_squared_error(y_cv,pre)\n",
    "    print(\"Mean Squared error\\n\", mse)\n",
    "    MSE.append(mse)\n",
    "    print(\"\\n\")\n",
    "    mae = mean_absolute_error(y_cv,pre)\n",
    "    print(\"Mean absolute error \\n{}\".format(mae))\n",
    "    MAE.append(mae)\n",
    "    print(\"\\n\\n\")"
   ]
  },
  {
   "cell_type": "code",
   "execution_count": 63,
   "metadata": {},
   "outputs": [
    {
     "data": {
      "text/html": [
       "<div>\n",
       "<style scoped>\n",
       "    .dataframe tbody tr th:only-of-type {\n",
       "        vertical-align: middle;\n",
       "    }\n",
       "\n",
       "    .dataframe tbody tr th {\n",
       "        vertical-align: top;\n",
       "    }\n",
       "\n",
       "    .dataframe thead th {\n",
       "        text-align: right;\n",
       "    }\n",
       "</style>\n",
       "<table border=\"1\" class=\"dataframe\">\n",
       "  <thead>\n",
       "    <tr style=\"text-align: right;\">\n",
       "      <th></th>\n",
       "      <th>Model</th>\n",
       "      <th>R2 Socre</th>\n",
       "      <th>Cross val score</th>\n",
       "      <th>Mean Squared Error</th>\n",
       "      <th>Mean Absolute Error</th>\n",
       "    </tr>\n",
       "  </thead>\n",
       "  <tbody>\n",
       "    <tr>\n",
       "      <th>0</th>\n",
       "      <td>LinearRegression</td>\n",
       "      <td>-5.350208</td>\n",
       "      <td>NaN</td>\n",
       "      <td>228445.815722</td>\n",
       "      <td>319.621930</td>\n",
       "    </tr>\n",
       "    <tr>\n",
       "      <th>1</th>\n",
       "      <td>Ridge</td>\n",
       "      <td>0.212305</td>\n",
       "      <td>NaN</td>\n",
       "      <td>28336.968695</td>\n",
       "      <td>127.849496</td>\n",
       "    </tr>\n",
       "    <tr>\n",
       "      <th>2</th>\n",
       "      <td>Lasso</td>\n",
       "      <td>0.168437</td>\n",
       "      <td>NaN</td>\n",
       "      <td>29915.111980</td>\n",
       "      <td>136.630143</td>\n",
       "    </tr>\n",
       "    <tr>\n",
       "      <th>3</th>\n",
       "      <td>KNeighborsRegressor</td>\n",
       "      <td>0.087041</td>\n",
       "      <td>NaN</td>\n",
       "      <td>32843.290838</td>\n",
       "      <td>138.737223</td>\n",
       "    </tr>\n",
       "    <tr>\n",
       "      <th>4</th>\n",
       "      <td>SVR</td>\n",
       "      <td>0.003539</td>\n",
       "      <td>NaN</td>\n",
       "      <td>35847.241619</td>\n",
       "      <td>148.626353</td>\n",
       "    </tr>\n",
       "    <tr>\n",
       "      <th>5</th>\n",
       "      <td>DecisionTreeRegressor</td>\n",
       "      <td>-0.324570</td>\n",
       "      <td>NaN</td>\n",
       "      <td>47650.805500</td>\n",
       "      <td>151.012072</td>\n",
       "    </tr>\n",
       "    <tr>\n",
       "      <th>6</th>\n",
       "      <td>RandomForestRegressor</td>\n",
       "      <td>0.240499</td>\n",
       "      <td>NaN</td>\n",
       "      <td>27322.686547</td>\n",
       "      <td>123.451256</td>\n",
       "    </tr>\n",
       "    <tr>\n",
       "      <th>7</th>\n",
       "      <td>AdaBoostRegressor</td>\n",
       "      <td>0.097222</td>\n",
       "      <td>NaN</td>\n",
       "      <td>32477.012235</td>\n",
       "      <td>148.905383</td>\n",
       "    </tr>\n",
       "    <tr>\n",
       "      <th>8</th>\n",
       "      <td>GradientBoostingRegressor</td>\n",
       "      <td>0.228636</td>\n",
       "      <td>NaN</td>\n",
       "      <td>27749.475400</td>\n",
       "      <td>130.481562</td>\n",
       "    </tr>\n",
       "    <tr>\n",
       "      <th>9</th>\n",
       "      <td>XGBoostRegressor</td>\n",
       "      <td>0.252587</td>\n",
       "      <td>NaN</td>\n",
       "      <td>26887.823089</td>\n",
       "      <td>124.713789</td>\n",
       "    </tr>\n",
       "  </tbody>\n",
       "</table>\n",
       "</div>"
      ],
      "text/plain": [
       "                       Model  R2 Socre  Cross val score  Mean Squared Error  \\\n",
       "0           LinearRegression -5.350208              NaN       228445.815722   \n",
       "1                      Ridge  0.212305              NaN        28336.968695   \n",
       "2                      Lasso  0.168437              NaN        29915.111980   \n",
       "3        KNeighborsRegressor  0.087041              NaN        32843.290838   \n",
       "4                        SVR  0.003539              NaN        35847.241619   \n",
       "5      DecisionTreeRegressor -0.324570              NaN        47650.805500   \n",
       "6      RandomForestRegressor  0.240499              NaN        27322.686547   \n",
       "7          AdaBoostRegressor  0.097222              NaN        32477.012235   \n",
       "8  GradientBoostingRegressor  0.228636              NaN        27749.475400   \n",
       "9           XGBoostRegressor  0.252587              NaN        26887.823089   \n",
       "\n",
       "   Mean Absolute Error  \n",
       "0           319.621930  \n",
       "1           127.849496  \n",
       "2           136.630143  \n",
       "3           138.737223  \n",
       "4           148.626353  \n",
       "5           151.012072  \n",
       "6           123.451256  \n",
       "7           148.905383  \n",
       "8           130.481562  \n",
       "9           124.713789  "
      ]
     },
     "execution_count": 63,
     "metadata": {},
     "output_type": "execute_result"
    }
   ],
   "source": [
    "result = pd.DataFrame({\"Model\": Model, \"R2 Socre\": score, \"Cross val score\": cvs, \"Mean Squared Error\": MSE, \"Mean Absolute Error\": MAE})\n",
    "result"
   ]
  },
  {
   "cell_type": "markdown",
   "metadata": {},
   "source": [
    "Finding the best parameter for XGBoost Regressor using GridSearchCV"
   ]
  },
  {
   "cell_type": "code",
   "execution_count": 64,
   "metadata": {},
   "outputs": [
    {
     "name": "stdout",
     "output_type": "stream",
     "text": [
      "GridSearchCV(cv=None, error_score=nan,\n",
      "             estimator=XGBRegressor(base_score=0.5, booster='gbtree',\n",
      "                                    colsample_bylevel=1, colsample_bynode=1,\n",
      "                                    colsample_bytree=1, gamma=0, gpu_id=-1,\n",
      "                                    importance_type='gain',\n",
      "                                    interaction_constraints='',\n",
      "                                    learning_rate=0.300000012, max_delta_step=0,\n",
      "                                    max_depth=6, min_child_weight=1,\n",
      "                                    missing=nan, monotone_constraints='()',\n",
      "                                    n_estimators=100, n_j...\n",
      "                                    num_parallel_tree=1,\n",
      "                                    objective='reg:squarederror',\n",
      "                                    random_state=0, reg_alpha=0, reg_lambda=1,\n",
      "                                    scale_pos_weight=1, subsample=1,\n",
      "                                    tree_method='exact', validate_parameters=1,\n",
      "                                    verbosity=None),\n",
      "             iid='deprecated', n_jobs=None,\n",
      "             param_grid={'learning_rate': [0.3], 'max_depth': [5, 6, 7],\n",
      "                         'n_estimators': [31]},\n",
      "             pre_dispatch='2*n_jobs', refit=True, return_train_score=False,\n",
      "             scoring=None, verbose=0)\n",
      "0.2502203775766231\n",
      "31\n",
      "{'learning_rate': 0.3, 'max_depth': 6, 'n_estimators': 31}\n"
     ]
    }
   ],
   "source": [
    "from sklearn.model_selection import GridSearchCV\n",
    "parameters = {\n",
    "              'n_estimators': [31],\n",
    "            'learning_rate': [0.3],\n",
    "            'max_depth': [5,6,7]\n",
    "             }\n",
    "grid = GridSearchCV(estimator=XGB,param_grid=parameters)\n",
    "grid.fit(merged_train,y_train)\n",
    "print(grid)\n",
    "print(grid.best_score_)\n",
    "print(grid.best_estimator_.n_estimators)\n",
    "print(grid.best_params_)"
   ]
  },
  {
   "cell_type": "markdown",
   "metadata": {},
   "source": [
    "Let's retrain the best regressor model with best parameters"
   ]
  },
  {
   "cell_type": "code",
   "execution_count": 139,
   "metadata": {},
   "outputs": [
    {
     "data": {
      "text/plain": [
       "XGBRegressor(base_score=0.5, booster='gbtree', colsample_bylevel=1,\n",
       "             colsample_bynode=1, colsample_bytree=1, gamma=0, gpu_id=-1,\n",
       "             importance_type='gain', interaction_constraints='',\n",
       "             learning_rate=0.3, max_delta_step=0, max_depth=6,\n",
       "             min_child_weight=1, missing=nan, monotone_constraints='()',\n",
       "             n_estimators=31, n_jobs=0, num_parallel_tree=1,\n",
       "             objective='reg:squarederror', random_state=0, reg_alpha=0,\n",
       "             reg_lambda=1, scale_pos_weight=1, subsample=1, tree_method='exact',\n",
       "             validate_parameters=1, verbosity=None)"
      ]
     },
     "execution_count": 139,
     "metadata": {},
     "output_type": "execute_result"
    }
   ],
   "source": [
    "XGB = xgb.XGBRegressor(n_estimators=31,learning_rate=0.3,max_depth=6)\n",
    "XGB.fit(merged_train,y_train)"
   ]
  },
  {
   "cell_type": "markdown",
   "metadata": {},
   "source": [
    "Saving the model"
   ]
  },
  {
   "cell_type": "code",
   "execution_count": 140,
   "metadata": {},
   "outputs": [
    {
     "data": {
      "text/plain": [
       "['Doctor_Consultation_Fee.pkl']"
      ]
     },
     "execution_count": 140,
     "metadata": {},
     "output_type": "execute_result"
    }
   ],
   "source": [
    "from sklearn.externals import joblib\n",
    "joblib.dump(XGB,'Doctor_Consultation_Fee.pkl')"
   ]
  },
  {
   "cell_type": "markdown",
   "metadata": {},
   "source": [
    "Let's load the test dataset, then preprocess it as we did with training dataset & then predict the results"
   ]
  },
  {
   "cell_type": "code",
   "execution_count": 141,
   "metadata": {},
   "outputs": [
    {
     "data": {
      "text/html": [
       "<div>\n",
       "<style scoped>\n",
       "    .dataframe tbody tr th:only-of-type {\n",
       "        vertical-align: middle;\n",
       "    }\n",
       "\n",
       "    .dataframe tbody tr th {\n",
       "        vertical-align: top;\n",
       "    }\n",
       "\n",
       "    .dataframe thead th {\n",
       "        text-align: right;\n",
       "    }\n",
       "</style>\n",
       "<table border=\"1\" class=\"dataframe\">\n",
       "  <thead>\n",
       "    <tr style=\"text-align: right;\">\n",
       "      <th></th>\n",
       "      <th>Qualification</th>\n",
       "      <th>Experience</th>\n",
       "      <th>Rating</th>\n",
       "      <th>Place</th>\n",
       "      <th>Profile</th>\n",
       "      <th>Miscellaneous_Info</th>\n",
       "    </tr>\n",
       "  </thead>\n",
       "  <tbody>\n",
       "    <tr>\n",
       "      <th>0</th>\n",
       "      <td>MBBS</td>\n",
       "      <td>35 years experience</td>\n",
       "      <td>NaN</td>\n",
       "      <td>Ghatkopar East, Mumbai</td>\n",
       "      <td>General Medicine</td>\n",
       "      <td>NaN</td>\n",
       "    </tr>\n",
       "    <tr>\n",
       "      <th>1</th>\n",
       "      <td>MBBS, Diploma in Otorhinolaryngology (DLO)</td>\n",
       "      <td>31 years experience</td>\n",
       "      <td>NaN</td>\n",
       "      <td>West Marredpally, Hyderabad</td>\n",
       "      <td>ENT Specialist</td>\n",
       "      <td>NaN</td>\n",
       "    </tr>\n",
       "    <tr>\n",
       "      <th>2</th>\n",
       "      <td>MBBS, DDVL</td>\n",
       "      <td>40 years experience</td>\n",
       "      <td>70%</td>\n",
       "      <td>KK Nagar, Chennai</td>\n",
       "      <td>Dermatologists</td>\n",
       "      <td>70% 4 Feedback KK Nagar, Chennai</td>\n",
       "    </tr>\n",
       "    <tr>\n",
       "      <th>3</th>\n",
       "      <td>BAMS</td>\n",
       "      <td>0 years experience</td>\n",
       "      <td>NaN</td>\n",
       "      <td>New Ashok Nagar, Delhi</td>\n",
       "      <td>Ayurveda</td>\n",
       "      <td>NaN</td>\n",
       "    </tr>\n",
       "    <tr>\n",
       "      <th>4</th>\n",
       "      <td>BDS, MDS - Conservative Dentistry &amp; Endodontics</td>\n",
       "      <td>16 years experience</td>\n",
       "      <td>100%</td>\n",
       "      <td>Kanakpura Road, Bangalore</td>\n",
       "      <td>Dentist</td>\n",
       "      <td>General Dentistry Conservative Dentistry Cosme...</td>\n",
       "    </tr>\n",
       "  </tbody>\n",
       "</table>\n",
       "</div>"
      ],
      "text/plain": [
       "                                     Qualification           Experience  \\\n",
       "0                                             MBBS  35 years experience   \n",
       "1       MBBS, Diploma in Otorhinolaryngology (DLO)  31 years experience   \n",
       "2                                       MBBS, DDVL  40 years experience   \n",
       "3                                             BAMS   0 years experience   \n",
       "4  BDS, MDS - Conservative Dentistry & Endodontics  16 years experience   \n",
       "\n",
       "  Rating                        Place           Profile  \\\n",
       "0    NaN       Ghatkopar East, Mumbai  General Medicine   \n",
       "1    NaN  West Marredpally, Hyderabad    ENT Specialist   \n",
       "2    70%            KK Nagar, Chennai    Dermatologists   \n",
       "3    NaN       New Ashok Nagar, Delhi          Ayurveda   \n",
       "4   100%    Kanakpura Road, Bangalore           Dentist   \n",
       "\n",
       "                                  Miscellaneous_Info  \n",
       "0                                                NaN  \n",
       "1                                                NaN  \n",
       "2                   70% 4 Feedback KK Nagar, Chennai  \n",
       "3                                                NaN  \n",
       "4  General Dentistry Conservative Dentistry Cosme...  "
      ]
     },
     "execution_count": 141,
     "metadata": {},
     "output_type": "execute_result"
    }
   ],
   "source": [
    "df_test = pd.read_excel(\"Doctor_Final_Test.xlsx\")\n",
    "df_test.head()"
   ]
  },
  {
   "cell_type": "code",
   "execution_count": 142,
   "metadata": {},
   "outputs": [],
   "source": [
    "df_test['Experience'] = df_test['Experience'].str.replace('years experience','').astype(int)"
   ]
  },
  {
   "cell_type": "code",
   "execution_count": 143,
   "metadata": {},
   "outputs": [],
   "source": [
    "df_test['Qualification'] = df_test['Qualification'].apply(clean_text)\n",
    "df_test['Place'].fillna('missing', inplace=True)"
   ]
  },
  {
   "cell_type": "code",
   "execution_count": 144,
   "metadata": {},
   "outputs": [],
   "source": [
    "df_test['Place'] = df_test['Place'].apply(clean_place)"
   ]
  },
  {
   "cell_type": "code",
   "execution_count": 145,
   "metadata": {},
   "outputs": [],
   "source": [
    "df_test['Rating'].fillna('0%', inplace=True)"
   ]
  },
  {
   "cell_type": "code",
   "execution_count": 146,
   "metadata": {},
   "outputs": [],
   "source": [
    "df_test['Rating'] = df_test['Rating'].apply(clean_rating)\n",
    "df_test['Rating'] = df_test['Rating'].astype(int)"
   ]
  },
  {
   "cell_type": "code",
   "execution_count": 147,
   "metadata": {},
   "outputs": [],
   "source": [
    "df_test['Miscellaneous_Info'].fillna('missing', inplace=True)"
   ]
  },
  {
   "cell_type": "code",
   "execution_count": 148,
   "metadata": {},
   "outputs": [],
   "source": [
    "df_test['Feedback'] = df_test['Miscellaneous_Info'].apply(get_feedback)\n",
    "df_test['Feedback'] = df_test['Feedback'].str.replace(' Feedback','')\n",
    "df_test['Feedback'] = df_test['Feedback'].astype(int)"
   ]
  },
  {
   "cell_type": "code",
   "execution_count": 149,
   "metadata": {},
   "outputs": [],
   "source": [
    "df_test['Misc_Fees'] = df_test['Miscellaneous_Info'].apply(get_fee)\n",
    "df_test['Misc_Fees'] = df_test['Misc_Fees'].str.replace('₹','')\n",
    "df_test['Misc_Fees'].fillna(50, inplace=True)\n",
    "df_test['Misc_Fees'] = df_test['Misc_Fees'].astype(float)"
   ]
  },
  {
   "cell_type": "code",
   "execution_count": 150,
   "metadata": {},
   "outputs": [],
   "source": [
    "df_test['Miscellaneous_Info'] = df_test['Miscellaneous_Info'].apply(clean_misc)"
   ]
  },
  {
   "cell_type": "code",
   "execution_count": 151,
   "metadata": {},
   "outputs": [],
   "source": [
    "df_test  = pd.get_dummies(df_test,  columns=['Profile'])"
   ]
  },
  {
   "cell_type": "code",
   "execution_count": 152,
   "metadata": {},
   "outputs": [
    {
     "data": {
      "text/html": [
       "<div>\n",
       "<style scoped>\n",
       "    .dataframe tbody tr th:only-of-type {\n",
       "        vertical-align: middle;\n",
       "    }\n",
       "\n",
       "    .dataframe tbody tr th {\n",
       "        vertical-align: top;\n",
       "    }\n",
       "\n",
       "    .dataframe thead th {\n",
       "        text-align: right;\n",
       "    }\n",
       "</style>\n",
       "<table border=\"1\" class=\"dataframe\">\n",
       "  <thead>\n",
       "    <tr style=\"text-align: right;\">\n",
       "      <th></th>\n",
       "      <th>Qualification</th>\n",
       "      <th>Experience</th>\n",
       "      <th>Rating</th>\n",
       "      <th>Place</th>\n",
       "      <th>Miscellaneous_Info</th>\n",
       "      <th>Feedback</th>\n",
       "      <th>Misc_Fees</th>\n",
       "      <th>Profile_Ayurveda</th>\n",
       "      <th>Profile_Dentist</th>\n",
       "      <th>Profile_Dermatologists</th>\n",
       "      <th>Profile_ENT Specialist</th>\n",
       "      <th>Profile_General Medicine</th>\n",
       "      <th>Profile_Homeopath</th>\n",
       "    </tr>\n",
       "  </thead>\n",
       "  <tbody>\n",
       "    <tr>\n",
       "      <th>0</th>\n",
       "      <td>mbbs</td>\n",
       "      <td>35</td>\n",
       "      <td>0</td>\n",
       "      <td>ghatkopar east mumbai</td>\n",
       "      <td>missing</td>\n",
       "      <td>0</td>\n",
       "      <td>50.0</td>\n",
       "      <td>0</td>\n",
       "      <td>0</td>\n",
       "      <td>0</td>\n",
       "      <td>0</td>\n",
       "      <td>1</td>\n",
       "      <td>0</td>\n",
       "    </tr>\n",
       "    <tr>\n",
       "      <th>1</th>\n",
       "      <td>mbbs diploma in otorhinolaryngology dlo</td>\n",
       "      <td>31</td>\n",
       "      <td>0</td>\n",
       "      <td>west marredpally hyderabad</td>\n",
       "      <td>missing</td>\n",
       "      <td>0</td>\n",
       "      <td>50.0</td>\n",
       "      <td>0</td>\n",
       "      <td>0</td>\n",
       "      <td>0</td>\n",
       "      <td>1</td>\n",
       "      <td>0</td>\n",
       "      <td>0</td>\n",
       "    </tr>\n",
       "    <tr>\n",
       "      <th>2</th>\n",
       "      <td>mbbs ddvl</td>\n",
       "      <td>40</td>\n",
       "      <td>70</td>\n",
       "      <td>kk nagar chennai</td>\n",
       "      <td>70 4 feedback kk nagar chennai</td>\n",
       "      <td>4</td>\n",
       "      <td>50.0</td>\n",
       "      <td>0</td>\n",
       "      <td>0</td>\n",
       "      <td>1</td>\n",
       "      <td>0</td>\n",
       "      <td>0</td>\n",
       "      <td>0</td>\n",
       "    </tr>\n",
       "    <tr>\n",
       "      <th>3</th>\n",
       "      <td>bams</td>\n",
       "      <td>0</td>\n",
       "      <td>0</td>\n",
       "      <td>new ashok nagar delhi</td>\n",
       "      <td>missing</td>\n",
       "      <td>0</td>\n",
       "      <td>50.0</td>\n",
       "      <td>1</td>\n",
       "      <td>0</td>\n",
       "      <td>0</td>\n",
       "      <td>0</td>\n",
       "      <td>0</td>\n",
       "      <td>0</td>\n",
       "    </tr>\n",
       "    <tr>\n",
       "      <th>4</th>\n",
       "      <td>bds mds conservative dentistry endodontics</td>\n",
       "      <td>16</td>\n",
       "      <td>100</td>\n",
       "      <td>kanakpura road bangalore</td>\n",
       "      <td>general dentistry conservative dentistry cosme...</td>\n",
       "      <td>0</td>\n",
       "      <td>50.0</td>\n",
       "      <td>0</td>\n",
       "      <td>1</td>\n",
       "      <td>0</td>\n",
       "      <td>0</td>\n",
       "      <td>0</td>\n",
       "      <td>0</td>\n",
       "    </tr>\n",
       "  </tbody>\n",
       "</table>\n",
       "</div>"
      ],
      "text/plain": [
       "                                Qualification  Experience  Rating  \\\n",
       "0                                        mbbs          35       0   \n",
       "1    mbbs diploma in otorhinolaryngology dlo           31       0   \n",
       "2                                   mbbs ddvl          40      70   \n",
       "3                                        bams           0       0   \n",
       "4  bds mds conservative dentistry endodontics          16     100   \n",
       "\n",
       "                        Place  \\\n",
       "0       ghatkopar east mumbai   \n",
       "1  west marredpally hyderabad   \n",
       "2            kk nagar chennai   \n",
       "3       new ashok nagar delhi   \n",
       "4    kanakpura road bangalore   \n",
       "\n",
       "                                  Miscellaneous_Info  Feedback  Misc_Fees  \\\n",
       "0                                            missing         0       50.0   \n",
       "1                                            missing         0       50.0   \n",
       "2                     70 4 feedback kk nagar chennai         4       50.0   \n",
       "3                                            missing         0       50.0   \n",
       "4  general dentistry conservative dentistry cosme...         0       50.0   \n",
       "\n",
       "   Profile_Ayurveda  Profile_Dentist  Profile_Dermatologists  \\\n",
       "0                 0                0                       0   \n",
       "1                 0                0                       0   \n",
       "2                 0                0                       1   \n",
       "3                 1                0                       0   \n",
       "4                 0                1                       0   \n",
       "\n",
       "   Profile_ENT Specialist  Profile_General Medicine  Profile_Homeopath  \n",
       "0                       0                         1                  0  \n",
       "1                       1                         0                  0  \n",
       "2                       0                         0                  0  \n",
       "3                       0                         0                  0  \n",
       "4                       0                         0                  0  "
      ]
     },
     "execution_count": 152,
     "metadata": {},
     "output_type": "execute_result"
    }
   ],
   "source": [
    "\n",
    "df_test.head()"
   ]
  },
  {
   "cell_type": "code",
   "execution_count": 153,
   "metadata": {},
   "outputs": [],
   "source": [
    "X_train = df.drop(labels='Fees', axis=1)\n",
    "y_train = df['Fees'].values\n",
    "X_test = df_test"
   ]
  },
  {
   "cell_type": "code",
   "execution_count": 80,
   "metadata": {},
   "outputs": [],
   "source": [
    "X_train_qual = X_train['Qualification']\n",
    "X_test_qual = X_test['Qualification']\n",
    "\n",
    "X_train_place = X_train['Place']\n",
    "X_test_place = X_test['Place']\n",
    "\n",
    "X_train_misc = X_train['Miscellaneous_Info']\n",
    "X_test_misc = X_test['Miscellaneous_Info']"
   ]
  },
  {
   "cell_type": "code",
   "execution_count": 81,
   "metadata": {},
   "outputs": [],
   "source": [
    "tf1 = TfidfVectorizer(ngram_range=(1,2), binary=True, token_pattern=r'\\w{3,}')\n",
    "X_train_qual = tf1.fit_transform(X_train_qual)\n",
    "X_test_qual = tf1.transform(X_test_qual)\n",
    "\n",
    "tf3 = TfidfVectorizer()\n",
    "X_train_place = tf3.fit_transform(X_train_place)\n",
    "X_test_place = tf3.transform(X_test_place)\n",
    "\n",
    "tf4 = TfidfVectorizer(token_pattern=r'\\w{1,}', ngram_range=(1,2))\n",
    "X_train_misc = tf4.fit_transform(X_train_misc)\n",
    "X_test_misc = tf4.transform(X_test_misc)"
   ]
  },
  {
   "cell_type": "code",
   "execution_count": 82,
   "metadata": {},
   "outputs": [],
   "source": [
    "X_train_exp = np.array(X_train['Experience']).reshape(-1,1)\n",
    "X_test_exp = np.array(X_test['Experience']).reshape(-1,1)\n",
    "\n",
    "X_train_feedback = np.array(X_train['Feedback']).reshape(-1,1)\n",
    "X_test_feedback = np.array(X_test['Feedback']).reshape(-1,1)\n",
    "\n",
    "X_train_rating = np.array(X_train['Rating']).reshape(-1,1)\n",
    "X_test_rating = np.array(X_test['Rating']).reshape(-1,1)\n",
    "\n",
    "cols = ['Profile_Dentist', 'Profile_Dermatologists', 'Profile_ENT Specialist', 'Profile_General Medicine',\n",
    "       'Profile_Homeopath']\n",
    "X_train_prof = X_train[cols]\n",
    "X_test_prof = X_test[cols]\n",
    "\n",
    "X_train_miscfees = np.array(X_train['Misc_Fees']).reshape(-1,1)\n",
    "X_test_miscfees = np.array(X_test['Misc_Fees']).reshape(-1,1)"
   ]
  },
  {
   "cell_type": "code",
   "execution_count": 83,
   "metadata": {},
   "outputs": [],
   "source": [
    "from scipy.sparse import hstack\n",
    "merged_train = hstack((X_train_exp, X_train_qual, X_train_prof, X_train_place, X_train_rating, X_train_misc, X_train_miscfees))\n",
    "merged_test  = hstack((X_test_exp, X_test_qual, X_test_prof, X_test_place, X_test_rating, X_test_misc, X_test_miscfees))"
   ]
  },
  {
   "cell_type": "code",
   "execution_count": 84,
   "metadata": {},
   "outputs": [
    {
     "data": {
      "text/plain": [
       "((5961, 9982), (1987, 9982))"
      ]
     },
     "execution_count": 84,
     "metadata": {},
     "output_type": "execute_result"
    }
   ],
   "source": [
    "merged_train.shape, merged_test.shape"
   ]
  },
  {
   "cell_type": "code",
   "execution_count": 85,
   "metadata": {},
   "outputs": [
    {
     "data": {
      "text/plain": [
       "<5961x9982 sparse matrix of type '<class 'numpy.float64'>'\n",
       "\twith 111401 stored elements in COOrdinate format>"
      ]
     },
     "execution_count": 85,
     "metadata": {},
     "output_type": "execute_result"
    }
   ],
   "source": [
    "merged_train"
   ]
  },
  {
   "cell_type": "code",
   "execution_count": 86,
   "metadata": {},
   "outputs": [
    {
     "data": {
      "text/plain": [
       "<1987x9982 sparse matrix of type '<class 'numpy.float64'>'\n",
       "\twith 36258 stored elements in COOrdinate format>"
      ]
     },
     "execution_count": 86,
     "metadata": {},
     "output_type": "execute_result"
    }
   ],
   "source": [
    "merged_test"
   ]
  },
  {
   "cell_type": "code",
   "execution_count": 87,
   "metadata": {},
   "outputs": [
    {
     "data": {
      "text/plain": [
       "array([219.90172, 310.9723 , 321.39813, ..., 319.2832 , 220.87054,\n",
       "       394.55792], dtype=float32)"
      ]
     },
     "execution_count": 87,
     "metadata": {},
     "output_type": "execute_result"
    }
   ],
   "source": [
    "from xgboost import XGBRegressor\n",
    "xgb = XGBRegressor(learning_rate=0.3, \n",
    "                   n_estimators=31, \n",
    "                   max_depth=6)\n",
    "xgb.fit(merged_train, y_train)\n",
    "y_pred1 = xgb.predict(merged_test)\n",
    "y_pred1"
   ]
  },
  {
   "cell_type": "code",
   "execution_count": 88,
   "metadata": {},
   "outputs": [],
   "source": [
    "np.savetxt(\"Doctor_Cosultation_Fee_Prediction.csv\", y_pred1, delimiter=\",\")"
   ]
  },
  {
   "cell_type": "code",
   "execution_count": null,
   "metadata": {},
   "outputs": [],
   "source": []
  }
 ],
 "metadata": {
  "kernelspec": {
   "display_name": "Python 3",
   "language": "python",
   "name": "python3"
  },
  "language_info": {
   "codemirror_mode": {
    "name": "ipython",
    "version": 3
   },
   "file_extension": ".py",
   "mimetype": "text/x-python",
   "name": "python",
   "nbconvert_exporter": "python",
   "pygments_lexer": "ipython3",
   "version": "3.7.6"
  }
 },
 "nbformat": 4,
 "nbformat_minor": 4
}
